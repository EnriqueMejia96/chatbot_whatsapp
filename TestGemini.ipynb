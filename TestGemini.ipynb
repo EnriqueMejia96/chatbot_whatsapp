{
 "cells": [
  {
   "cell_type": "markdown",
   "metadata": {},
   "source": [
    "# Autenticarse como usuario"
   ]
  },
  {
   "cell_type": "code",
   "execution_count": null,
   "metadata": {},
   "outputs": [],
   "source": [
    "# !gcloud auth application-default login"
   ]
  },
  {
   "cell_type": "markdown",
   "metadata": {},
   "source": [
    "# Instalar librerías"
   ]
  },
  {
   "cell_type": "code",
   "execution_count": null,
   "metadata": {},
   "outputs": [],
   "source": [
    "# !pip install google-cloud-aiplatform==1.57.0"
   ]
  },
  {
   "cell_type": "markdown",
   "metadata": {},
   "source": [
    "# Prueba Gemini"
   ]
  },
  {
   "cell_type": "code",
   "execution_count": 3,
   "metadata": {},
   "outputs": [
    {
     "name": "stdout",
     "output_type": "stream",
     "text": [
      " This is an image of a person using a typewriter.\n"
     ]
    }
   ],
   "source": [
    "import base64\n",
    "import vertexai\n",
    "\n",
    "from vertexai.generative_models import GenerationConfig, GenerativeModel, Part\n",
    "\n",
    "project_id = \"astral-reef-391421\"\n",
    "\n",
    "vertexai.init(project=project_id, location=\"us-central1\")\n",
    "\n",
    "model = GenerativeModel(model_name=\"gemini-1.0-pro-vision-001\")\n",
    "\n",
    "# Load example image from local storage\n",
    "encoded_image = base64.b64encode(open(\"imagen_ejemplo.jpg\", \"rb\").read()).decode(\"utf-8\")\n",
    "image_content = Part.from_data(data=base64.b64decode(encoded_image), mime_type=\"image/jpeg\")\n",
    "\n",
    "# Generation Config\n",
    "config = GenerationConfig(max_output_tokens=2048, temperature=0.4, top_p=1, top_k=32)\n",
    "\n",
    "# Generate text\n",
    "response = model.generate_content([image_content, \"what is this image?\"], generation_config=config)\n",
    "\n",
    "print(response.text)"
   ]
  },
  {
   "cell_type": "code",
   "execution_count": null,
   "metadata": {},
   "outputs": [],
   "source": []
  },
  {
   "cell_type": "code",
   "execution_count": null,
   "metadata": {},
   "outputs": [],
   "source": []
  }
 ],
 "metadata": {
  "kernelspec": {
   "display_name": "Python 3",
   "language": "python",
   "name": "python3"
  },
  "language_info": {
   "codemirror_mode": {
    "name": "ipython",
    "version": 3
   },
   "file_extension": ".py",
   "mimetype": "text/x-python",
   "name": "python",
   "nbconvert_exporter": "python",
   "pygments_lexer": "ipython3",
   "version": "3.10.4"
  }
 },
 "nbformat": 4,
 "nbformat_minor": 2
}
